{
 "cells": [
  {
   "cell_type": "code",
   "execution_count": 15,
   "metadata": {
    "collapsed": false
   },
   "outputs": [
    {
     "name": "stdout",
     "output_type": "stream",
     "text": [
      "The autoreload extension is already loaded. To reload it, use:\n",
      "  %reload_ext autoreload\n"
     ]
    }
   ],
   "source": [
    "import math\n",
    "import torch\n",
    "import gpytorch\n",
    "from matplotlib import pyplot as plt\n",
    "\n",
    "%matplotlib inline\n",
    "%load_ext autoreload\n",
    "%autoreload 2"
   ]
  },
  {
   "cell_type": "code",
   "execution_count": 16,
   "metadata": {
    "collapsed": true
   },
   "outputs": [],
   "source": [
    "# Training points are every 0.1 in [0,1] (note that they're the same for both tasks)\n",
    "train_x = torch.linspace(0, 1, 11).view(-1, 1)\n",
    "# y1s are indexed 0, y2s are indexed 1\n",
    "y1_inds = torch.zeros(11).long()\n",
    "y2_inds = torch.ones(11).long()\n",
    "# y1 function is sin(2*pi*x) with noise N(0, 0.04)\n",
    "train_y1 = torch.sin(train_x.data * (2 * math.pi)) + torch.randn(train_x.size()) * 0.2\n",
    "# y2 function is cos(2*pi*x) with noise N(0, 0.04)\n",
    "train_y2 = torch.cos(train_x.data * (2 * math.pi)) + torch.randn(train_x.size()) * 0.2"
   ]
  },
  {
   "cell_type": "code",
   "execution_count": 17,
   "metadata": {
    "collapsed": true
   },
   "outputs": [],
   "source": [
    "from torch import optim"
   ]
  },
  {
   "cell_type": "code",
   "execution_count": 29,
   "metadata": {
    "collapsed": false
   },
   "outputs": [
    {
     "name": "stdout",
     "output_type": "stream",
     "text": [
      "tensor([[ 0.0308,  0.6788],\n",
      "        [ 0.6347,  0.7760],\n",
      "        [ 0.9018,  0.2362],\n",
      "        [ 1.1418, -0.2871],\n",
      "        [ 0.5265, -0.2662],\n",
      "        [ 0.2939, -0.9759],\n",
      "        [-0.6957, -0.7333],\n",
      "        [-1.3008, -0.3974],\n",
      "        [-0.8516,  0.1326],\n",
      "        [-0.5907,  0.7687],\n",
      "        [-0.2300,  1.0844]])\n"
     ]
    }
   ],
   "source": [
    "train_y = torch.cat((train_y1, train_y2), dim=1).contiguous()\n",
    "print(train_y)"
   ]
  },
  {
   "cell_type": "code",
   "execution_count": 95,
   "metadata": {
    "collapsed": false
   },
   "outputs": [],
   "source": [
    "from multitaskgp import ExactMultitaskGP\n",
    "from kernels import RQ_Constant, RBF"
   ]
  },
  {
   "cell_type": "code",
   "execution_count": 96,
   "metadata": {
    "collapsed": false
   },
   "outputs": [
    {
     "name": "stdout",
     "output_type": "stream",
     "text": [
      "torch.Size([11, 1])\n"
     ]
    }
   ],
   "source": [
    "model = ExactMultitaskGP(train_x,train_y, kernel=RBF(), rank=1)"
   ]
  },
  {
   "cell_type": "code",
   "execution_count": 97,
   "metadata": {
    "collapsed": false
   },
   "outputs": [
    {
     "name": "stdout",
     "output_type": "stream",
     "text": [
      "tensor(27.2951)\n",
      "Epoch: 1, Loss: 27.295066833496094\n",
      "tensor(26.6119)\n",
      "Epoch: 2, Loss: 26.611949920654297\n",
      "tensor(25.9936)\n",
      "Epoch: 3, Loss: 25.993623733520508\n",
      "tensor(25.4530)\n",
      "Epoch: 4, Loss: 25.453022003173828\n",
      "tensor(24.9808)\n",
      "Epoch: 5, Loss: 24.98078155517578\n",
      "tensor(24.5602)\n",
      "Epoch: 6, Loss: 24.560197830200195\n",
      "tensor(24.1854)\n",
      "Epoch: 7, Loss: 24.18536376953125\n",
      "tensor(23.8555)\n",
      "Epoch: 8, Loss: 23.855493545532227\n",
      "tensor(23.5737)\n",
      "Epoch: 9, Loss: 23.573671340942383\n",
      "tensor(23.3466)\n",
      "Epoch: 10, Loss: 23.346590042114258\n",
      "tensor(23.1804)\n",
      "Epoch: 11, Loss: 23.180368423461914\n",
      "tensor(23.0681)\n",
      "Epoch: 12, Loss: 23.06808090209961\n",
      "tensor(22.9795)\n",
      "Epoch: 13, Loss: 22.979488372802734\n",
      "tensor(22.8742)\n",
      "Epoch: 14, Loss: 22.874210357666016\n",
      "tensor(22.7175)\n",
      "Epoch: 15, Loss: 22.717451095581055\n",
      "tensor(22.4860)\n",
      "Epoch: 16, Loss: 22.4859676361084\n",
      "tensor(22.1697)\n",
      "Epoch: 17, Loss: 22.169677734375\n",
      "tensor(21.7646)\n",
      "Epoch: 18, Loss: 21.764583587646484\n",
      "tensor(21.2660)\n",
      "Epoch: 19, Loss: 21.266048431396484\n",
      "tensor(20.6895)\n",
      "Epoch: 20, Loss: 20.689516067504883\n",
      "tensor(20.0972)\n",
      "Epoch: 21, Loss: 20.097164154052734\n",
      "tensor(19.5913)\n",
      "Epoch: 22, Loss: 19.59131622314453\n",
      "tensor(19.2511)\n",
      "Epoch: 23, Loss: 19.251056671142578\n",
      "tensor(19.0520)\n",
      "Epoch: 24, Loss: 19.051984786987305\n",
      "tensor(18.9020)\n",
      "Epoch: 25, Loss: 18.90203094482422\n",
      "tensor(18.7406)\n",
      "Epoch: 26, Loss: 18.740623474121094\n",
      "tensor(18.5548)\n",
      "Epoch: 27, Loss: 18.554824829101562\n",
      "tensor(18.3621)\n",
      "Epoch: 28, Loss: 18.36212921142578\n",
      "tensor(18.1953)\n",
      "Epoch: 29, Loss: 18.195335388183594\n",
      "tensor(18.0780)\n",
      "Epoch: 30, Loss: 18.078044891357422\n",
      "tensor(17.9814)\n",
      "Epoch: 31, Loss: 17.981449127197266\n",
      "tensor(17.8375)\n",
      "Epoch: 32, Loss: 17.837465286254883\n",
      "tensor(17.6287)\n",
      "Epoch: 33, Loss: 17.62871742248535\n",
      "tensor(17.3908)\n",
      "Epoch: 34, Loss: 17.39083480834961\n",
      "tensor(17.1660)\n",
      "Epoch: 35, Loss: 17.166030883789062\n",
      "tensor(16.9787)\n",
      "Epoch: 36, Loss: 16.978656768798828\n",
      "tensor(16.8333)\n",
      "Epoch: 37, Loss: 16.83333969116211\n",
      "tensor(16.7248)\n",
      "Epoch: 38, Loss: 16.72476577758789\n",
      "tensor(16.6488)\n",
      "Epoch: 39, Loss: 16.64876365661621\n",
      "tensor(16.6069)\n",
      "Epoch: 40, Loss: 16.606884002685547\n",
      "tensor(16.6034)\n",
      "Epoch: 41, Loss: 16.60335922241211\n",
      "tensor(16.6374)\n",
      "Epoch: 42, Loss: 16.637439727783203\n",
      "tensor(16.6959)\n",
      "Epoch: 43, Loss: 16.695877075195312\n",
      "tensor(16.7544)\n",
      "Epoch: 44, Loss: 16.75444793701172\n",
      "tensor(16.7931)\n",
      "Epoch: 45, Loss: 16.79306411743164\n",
      "tensor(16.8093)\n",
      "Epoch: 46, Loss: 16.80927276611328\n",
      "tensor(16.8134)\n",
      "Epoch: 47, Loss: 16.813350677490234\n",
      "tensor(16.8137)\n",
      "Epoch: 48, Loss: 16.81374168395996\n",
      "tensor(16.8102)\n",
      "Epoch: 49, Loss: 16.81016731262207\n",
      "tensor(16.7977)\n",
      "Epoch: 50, Loss: 16.797651290893555\n",
      "tensor(16.7732)\n",
      "Epoch: 51, Loss: 16.77315902709961\n",
      "tensor(16.7388)\n",
      "Epoch: 52, Loss: 16.738815307617188\n",
      "tensor(16.7015)\n",
      "Epoch: 53, Loss: 16.701465606689453\n",
      "tensor(16.6695)\n",
      "Epoch: 54, Loss: 16.66949462890625\n",
      "tensor(16.6488)\n",
      "Epoch: 55, Loss: 16.648761749267578\n",
      "tensor(16.6396)\n",
      "Epoch: 56, Loss: 16.639616012573242\n",
      "tensor(16.6368)\n",
      "Epoch: 57, Loss: 16.63681983947754\n",
      "tensor(16.6339)\n",
      "Epoch: 58, Loss: 16.633853912353516\n",
      "tensor(16.6278)\n",
      "Epoch: 59, Loss: 16.627809524536133\n",
      "tensor(16.6207)\n",
      "Epoch: 60, Loss: 16.62074089050293\n",
      "tensor(16.6162)\n",
      "Epoch: 61, Loss: 16.616161346435547\n",
      "tensor(16.6156)\n",
      "Epoch: 62, Loss: 16.615570068359375\n",
      "tensor(16.6173)\n",
      "Epoch: 63, Loss: 16.617334365844727\n",
      "tensor(16.6183)\n",
      "Epoch: 64, Loss: 16.6182918548584\n",
      "tensor(16.6162)\n",
      "Epoch: 65, Loss: 16.616249084472656\n",
      "tensor(16.6114)\n",
      "Epoch: 66, Loss: 16.611404418945312\n",
      "tensor(16.6059)\n",
      "Epoch: 67, Loss: 16.605939865112305\n",
      "tensor(16.6026)\n",
      "Epoch: 68, Loss: 16.602598190307617\n",
      "tensor(16.6025)\n",
      "Epoch: 69, Loss: 16.60253143310547\n",
      "tensor(16.6047)\n",
      "Epoch: 70, Loss: 16.60470199584961\n",
      "tensor(16.6067)\n",
      "Epoch: 71, Loss: 16.60669708251953\n",
      "tensor(16.6068)\n",
      "Epoch: 72, Loss: 16.606779098510742\n",
      "tensor(16.6051)\n",
      "Epoch: 73, Loss: 16.6051082611084\n",
      "tensor(16.6032)\n",
      "Epoch: 74, Loss: 16.60323715209961\n",
      "tensor(16.6025)\n",
      "Epoch: 75, Loss: 16.602455139160156\n",
      "tensor(16.6027)\n",
      "Epoch: 76, Loss: 16.602684020996094\n",
      "tensor(16.6027)\n",
      "Epoch: 77, Loss: 16.602731704711914\n",
      "tensor(16.6015)\n",
      "Epoch: 78, Loss: 16.60149383544922\n",
      "tensor(16.5989)\n",
      "Epoch: 79, Loss: 16.59893798828125\n",
      "tensor(16.5959)\n",
      "Epoch: 80, Loss: 16.59588623046875\n",
      "tensor(16.5935)\n",
      "Epoch: 81, Loss: 16.59345245361328\n",
      "tensor(16.5922)\n",
      "Epoch: 82, Loss: 16.59224510192871\n",
      "tensor(16.5919)\n",
      "Epoch: 83, Loss: 16.591949462890625\n",
      "tensor(16.5918)\n",
      "Epoch: 84, Loss: 16.591842651367188\n",
      "tensor(16.5915)\n",
      "Epoch: 85, Loss: 16.591461181640625\n",
      "tensor(16.5910)\n",
      "Epoch: 86, Loss: 16.59099578857422\n",
      "tensor(16.5909)\n",
      "Epoch: 87, Loss: 16.590862274169922\n",
      "tensor(16.5914)\n",
      "Epoch: 88, Loss: 16.591371536254883\n",
      "tensor(16.5922)\n",
      "Epoch: 89, Loss: 16.592212677001953\n",
      "tensor(16.5930)\n",
      "Epoch: 90, Loss: 16.592954635620117\n",
      "tensor(16.5932)\n",
      "Epoch: 91, Loss: 16.59317970275879\n",
      "tensor(16.5929)\n",
      "Epoch: 92, Loss: 16.59293556213379\n",
      "tensor(16.5925)\n",
      "Epoch: 93, Loss: 16.592498779296875\n",
      "tensor(16.5921)\n",
      "Epoch: 94, Loss: 16.592147827148438\n",
      "tensor(16.5919)\n",
      "Epoch: 95, Loss: 16.591922760009766\n",
      "tensor(16.5917)\n",
      "Epoch: 96, Loss: 16.59174919128418\n",
      "tensor(16.5914)\n",
      "Epoch: 97, Loss: 16.591419219970703\n",
      "tensor(16.5910)\n",
      "Epoch: 98, Loss: 16.59103012084961\n",
      "tensor(16.5907)\n",
      "Epoch: 99, Loss: 16.590656280517578\n",
      "tensor(16.5905)\n",
      "Epoch: 100, Loss: 16.5904541015625\n"
     ]
    }
   ],
   "source": [
    "model.fit(lr=0.1, max_epoch=100)"
   ]
  },
  {
   "cell_type": "code",
   "execution_count": 98,
   "metadata": {
    "collapsed": false
   },
   "outputs": [],
   "source": [
    "test_x = torch.linspace(0, 1, 51).view(-1, 1)\n",
    "fmean = model.predict(test_x)[-1]"
   ]
  },
  {
   "cell_type": "code",
   "execution_count": 99,
   "metadata": {
    "collapsed": false
   },
   "outputs": [
    {
     "name": "stdout",
     "output_type": "stream",
     "text": [
      "tensor([[ 0.1106,  0.0052],\n",
      "        [ 0.1947,  0.0092],\n",
      "        [ 0.2831,  0.0134],\n",
      "        [ 0.3741,  0.0177],\n",
      "        [ 0.4660,  0.0221],\n",
      "        [ 0.5568,  0.0264],\n",
      "        [ 0.6447,  0.0306],\n",
      "        [ 0.7277,  0.0345],\n",
      "        [ 0.8038,  0.0381],\n",
      "        [ 0.8714,  0.0413],\n",
      "        [ 0.9288,  0.0441],\n",
      "        [ 0.9744,  0.0462],\n",
      "        [ 1.0070,  0.0478],\n",
      "        [ 1.0253,  0.0486],\n",
      "        [ 1.0285,  0.0488],\n",
      "        [ 1.0157,  0.0482],\n",
      "        [ 0.9866,  0.0468],\n",
      "        [ 0.9409,  0.0446],\n",
      "        [ 0.8786,  0.0417],\n",
      "        [ 0.8002,  0.0380],\n",
      "        [ 0.7063,  0.0335],\n",
      "        [ 0.5980,  0.0284],\n",
      "        [ 0.4768,  0.0226],\n",
      "        [ 0.3447,  0.0163],\n",
      "        [ 0.2039,  0.0097],\n",
      "        [ 0.0570,  0.0027],\n",
      "        [-0.0929, -0.0044],\n",
      "        [-0.2427, -0.0115],\n",
      "        [-0.3889, -0.0184],\n",
      "        [-0.5283, -0.0251],\n",
      "        [-0.6575, -0.0312],\n",
      "        [-0.7735, -0.0367],\n",
      "        [-0.8736, -0.0414],\n",
      "        [-0.9557, -0.0453],\n",
      "        [-1.0181, -0.0483],\n",
      "        [-1.0599, -0.0503],\n",
      "        [-1.0809, -0.0513],\n",
      "        [-1.0816, -0.0513],\n",
      "        [-1.0630, -0.0504],\n",
      "        [-1.0268, -0.0487],\n",
      "        [-0.9755, -0.0463],\n",
      "        [-0.9115, -0.0432],\n",
      "        [-0.8377, -0.0397],\n",
      "        [-0.7571, -0.0359],\n",
      "        [-0.6727, -0.0319],\n",
      "        [-0.5871, -0.0279],\n",
      "        [-0.5030, -0.0239],\n",
      "        [-0.4225, -0.0200],\n",
      "        [-0.3474, -0.0165],\n",
      "        [-0.2789, -0.0132],\n",
      "        [-0.2180, -0.0103]])\n"
     ]
    }
   ],
   "source": [
    "print(fmean)"
   ]
  },
  {
   "cell_type": "code",
   "execution_count": 100,
   "metadata": {
    "collapsed": false
   },
   "outputs": [
    {
     "data": {
      "image/png": "[encoded data removed]",
      "text/plain": [
       "<matplotlib.figure.Figure at 0x7f2a28010518>"
      ]
     },
     "metadata": {},
     "output_type": "display_data"
    }
   ],
   "source": [
    "f, (y1_ax, y2_ax) = plt.subplots(1, 2, figsize=(8, 3))\n",
    "def ax_plot(ax, train_y, rand_var, title):\n",
    "    # Plot training data as black stars\n",
    "    ax.plot(train_x.data.numpy(), train_y.data.numpy(), 'k*')\n",
    "    # Predictive mean as blue line\n",
    "    ax.plot(test_x.data.numpy(), rand_var.detach().numpy(), 'b')\n",
    "    # Shade in confidence \n",
    "    ax.set_ylim([-3, 3])\n",
    "    ax.legend(['Observed Data', 'Mean', 'Confidence'])\n",
    "    ax.set_title(title)\n",
    "ax_plot(y1_ax, train_y1, fmean[:, 0], 'Observed Values (Likelihood)')\n",
    "ax_plot(y2_ax, train_y2, fmean[:, 1], 'Observed Values (Likelihood)')"
   ]
  },
  {
   "cell_type": "code",
   "execution_count": 101,
   "metadata": {
    "collapsed": false
   },
   "outputs": [
    {
     "name": "stdout",
     "output_type": "stream",
     "text": [
      "tensor([[ 2.9770,  0.1412],\n",
      "        [ 0.1412,  0.0067]])\n"
     ]
    }
   ],
   "source": [
    "print(model.task_kernel())"
   ]
  },
  {
   "cell_type": "code",
   "execution_count": 102,
   "metadata": {
    "collapsed": false
   },
   "outputs": [
    {
     "name": "stdout",
     "output_type": "stream",
     "text": [
      "tensor([ 0.0346,  0.4276])\n"
     ]
    }
   ],
   "source": [
    "print(model.log_noise.exp())"
   ]
  },
  {
   "cell_type": "code",
   "execution_count": null,
   "metadata": {
    "collapsed": true
   },
   "outputs": [],
   "source": []
  }
 ],
 "metadata": {
  "kernelspec": {
   "display_name": "Python 3",
   "language": "python",
   "name": "python3"
  },
  "language_info": {
   "codemirror_mode": {
    "name": "ipython",
    "version": 3
   },
   "file_extension": ".py",
   "mimetype": "text/x-python",
   "name": "python",
   "nbconvert_exporter": "python",
   "pygments_lexer": "ipython3",
   "version": "3.5.2"
  }
 },
 "nbformat": 4,
 "nbformat_minor": 2
}
