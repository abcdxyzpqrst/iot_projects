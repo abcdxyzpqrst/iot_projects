{
 "cells": [
  {
   "cell_type": "code",
   "execution_count": 11,
   "metadata": {
    "collapsed": false,
    "deletable": true,
    "editable": true
   },
   "outputs": [
    {
     "name": "stdout",
     "output_type": "stream",
     "text": [
      "The autoreload extension is already loaded. To reload it, use:\n",
      "  %reload_ext autoreload\n"
     ]
    }
   ],
   "source": [
    "import math\n",
    "import torch\n",
    "import gpytorch\n",
    "from matplotlib import pyplot as plt\n",
    "\n",
    "%matplotlib inline\n",
    "%load_ext autoreload\n",
    "%autoreload 2"
   ]
  },
  {
   "cell_type": "code",
   "execution_count": 12,
   "metadata": {
    "collapsed": true,
    "deletable": true,
    "editable": true
   },
   "outputs": [],
   "source": [
    "# Training points are every 0.1 in [0,1] (note that they're the same for both tasks)\n",
    "train_x = torch.linspace(0, 1, 11).view(-1, 1)\n",
    "# y1s are indexed 0, y2s are indexed 1\n",
    "y1_inds = torch.zeros(11).long()\n",
    "y2_inds = torch.ones(11).long()\n",
    "# y1 function is sin(2*pi*x) with noise N(0, 0.04)\n",
    "train_y1 = torch.sin(train_x.data * (2 * math.pi)) + torch.randn(train_x.size()) * 0.2\n",
    "# y2 function is cos(2*pi*x) with noise N(0, 0.04)\n",
    "train_y2 = torch.cos(train_x.data * (2 * math.pi)) + torch.randn(train_x.size()) * 0.2"
   ]
  },
  {
   "cell_type": "code",
   "execution_count": 13,
   "metadata": {
    "collapsed": true,
    "deletable": true,
    "editable": true
   },
   "outputs": [],
   "source": [
    "from torch import optim"
   ]
  },
  {
   "cell_type": "code",
   "execution_count": 14,
   "metadata": {
    "collapsed": false,
    "deletable": true,
    "editable": true
   },
   "outputs": [
    {
     "name": "stdout",
     "output_type": "stream",
     "text": [
      "tensor([[ 0.1524,  1.1455],\n",
      "        [ 0.3357,  0.5691],\n",
      "        [ 1.0402,  0.5352],\n",
      "        [ 1.0873, -0.3835],\n",
      "        [ 0.2822, -0.7345],\n",
      "        [-0.3020, -1.0019],\n",
      "        [-0.9858, -0.8136],\n",
      "        [-1.0112, -0.4240],\n",
      "        [-0.7563,  0.4080],\n",
      "        [-0.6490,  0.7804],\n",
      "        [-0.0232,  0.9867]])\n"
     ]
    }
   ],
   "source": [
    "train_y = torch.cat((train_y1, train_y2), dim=1).contiguous()\n",
    "print(train_y)"
   ]
  },
  {
   "cell_type": "code",
   "execution_count": 15,
   "metadata": {
    "collapsed": false,
    "deletable": true,
    "editable": true
   },
   "outputs": [],
   "source": [
    "from multitaskgp import ExactMultitaskGP\n",
    "from kernels import RQ_Constant, RBF"
   ]
  },
  {
   "cell_type": "code",
   "execution_count": 29,
   "metadata": {
    "collapsed": false,
    "deletable": true,
    "editable": true
   },
   "outputs": [],
   "source": [
    "model = ExactMultitaskGP(train_x,train_y, kernel=RBF(), rank=1)"
   ]
  },
  {
   "cell_type": "code",
   "execution_count": 30,
   "metadata": {
    "collapsed": false,
    "deletable": true,
    "editable": true
   },
   "outputs": [
    {
     "name": "stdout",
     "output_type": "stream",
     "text": [
      "Epoch: 1, Loss: 29.261871337890625\n",
      "Epoch: 2, Loss: 28.477893829345703\n",
      "Epoch: 3, Loss: 27.778697967529297\n",
      "Epoch: 4, Loss: 27.171968460083008\n",
      "Epoch: 5, Loss: 26.64958381652832\n",
      "Epoch: 6, Loss: 26.19292640686035\n",
      "Epoch: 7, Loss: 25.790021896362305\n",
      "Epoch: 8, Loss: 25.431522369384766\n",
      "Epoch: 9, Loss: 25.110889434814453\n",
      "Epoch: 10, Loss: 24.83036231994629\n",
      "Epoch: 11, Loss: 24.59876823425293\n",
      "Epoch: 12, Loss: 24.417221069335938\n",
      "Epoch: 13, Loss: 24.276378631591797\n",
      "Epoch: 14, Loss: 24.156536102294922\n",
      "Epoch: 15, Loss: 24.032814025878906\n",
      "Epoch: 16, Loss: 23.882102966308594\n",
      "Epoch: 17, Loss: 23.686447143554688\n",
      "Epoch: 18, Loss: 23.433177947998047\n",
      "Epoch: 19, Loss: 23.11285400390625\n",
      "Epoch: 20, Loss: 22.720951080322266\n",
      "Epoch: 21, Loss: 22.266014099121094\n",
      "Epoch: 22, Loss: 21.780805587768555\n",
      "Epoch: 23, Loss: 21.325397491455078\n",
      "Epoch: 24, Loss: 20.965946197509766\n",
      "Epoch: 25, Loss: 20.726146697998047\n",
      "Epoch: 26, Loss: 20.558605194091797\n",
      "Epoch: 27, Loss: 20.400550842285156\n",
      "Epoch: 28, Loss: 20.218387603759766\n",
      "Epoch: 29, Loss: 20.005020141601562\n",
      "Epoch: 30, Loss: 19.772808074951172\n",
      "Epoch: 31, Loss: 19.544673919677734\n",
      "Epoch: 32, Loss: 19.337963104248047\n",
      "Epoch: 33, Loss: 19.142410278320312\n",
      "Epoch: 34, Loss: 18.92158317565918\n",
      "Epoch: 35, Loss: 18.653690338134766\n",
      "Epoch: 36, Loss: 18.351394653320312\n",
      "Epoch: 37, Loss: 18.04407501220703\n",
      "Epoch: 38, Loss: 17.756620407104492\n",
      "Epoch: 39, Loss: 17.499597549438477\n",
      "Epoch: 40, Loss: 17.2698974609375\n",
      "Epoch: 41, Loss: 17.055238723754883\n",
      "Epoch: 42, Loss: 16.836273193359375\n",
      "Epoch: 43, Loss: 16.58550262451172\n",
      "Epoch: 44, Loss: 16.27037811279297\n",
      "Epoch: 45, Loss: 15.869787216186523\n",
      "Epoch: 46, Loss: 15.399773597717285\n",
      "Epoch: 47, Loss: 14.920209884643555\n",
      "Epoch: 48, Loss: 14.494471549987793\n",
      "Epoch: 49, Loss: 14.130806922912598\n",
      "Epoch: 50, Loss: 13.78067684173584\n",
      "Epoch: 51, Loss: 13.400071144104004\n",
      "Epoch: 52, Loss: 12.993123054504395\n",
      "Epoch: 53, Loss: 12.599725723266602\n",
      "Epoch: 54, Loss: 12.254592895507812\n",
      "Epoch: 55, Loss: 11.956628799438477\n",
      "Epoch: 56, Loss: 11.67608642578125\n",
      "Epoch: 57, Loss: 11.394180297851562\n",
      "Epoch: 58, Loss: 11.127277374267578\n",
      "Epoch: 59, Loss: 10.905405044555664\n",
      "Epoch: 60, Loss: 10.734880447387695\n",
      "Epoch: 61, Loss: 10.59245491027832\n",
      "Epoch: 62, Loss: 10.455528259277344\n",
      "Epoch: 63, Loss: 10.325733184814453\n",
      "Epoch: 64, Loss: 10.222370147705078\n",
      "Epoch: 65, Loss: 10.159889221191406\n",
      "Epoch: 66, Loss: 10.133691787719727\n",
      "Epoch: 67, Loss: 10.127038955688477\n",
      "Epoch: 68, Loss: 10.13003921508789\n",
      "Epoch: 69, Loss: 10.145156860351562\n",
      "Epoch: 70, Loss: 10.174758911132812\n",
      "Epoch: 71, Loss: 10.210168838500977\n",
      "Epoch: 72, Loss: 10.236417770385742\n",
      "Epoch: 73, Loss: 10.244632720947266\n",
      "Epoch: 74, Loss: 10.237224578857422\n",
      "Epoch: 75, Loss: 10.221603393554688\n",
      "Epoch: 76, Loss: 10.200401306152344\n",
      "Epoch: 77, Loss: 10.171260833740234\n",
      "Epoch: 78, Loss: 10.13446044921875\n",
      "Epoch: 79, Loss: 10.096776962280273\n",
      "Epoch: 80, Loss: 10.065105438232422\n",
      "Epoch: 81, Loss: 10.040674209594727\n",
      "Epoch: 82, Loss: 10.020938873291016\n",
      "Epoch: 83, Loss: 10.00473403930664\n",
      "Epoch: 84, Loss: 9.993473052978516\n",
      "Epoch: 85, Loss: 9.988506317138672\n",
      "Epoch: 86, Loss: 9.988399505615234\n",
      "Epoch: 87, Loss: 9.990032196044922\n",
      "Epoch: 88, Loss: 9.991691589355469\n",
      "Epoch: 89, Loss: 9.993864059448242\n",
      "Epoch: 90, Loss: 9.997171401977539\n",
      "Epoch: 91, Loss: 10.000734329223633\n",
      "Epoch: 92, Loss: 10.002931594848633\n",
      "Epoch: 93, Loss: 10.00322151184082\n",
      "Epoch: 94, Loss: 10.00213623046875\n",
      "Epoch: 95, Loss: 10.000494003295898\n",
      "Epoch: 96, Loss: 9.998117446899414\n",
      "Epoch: 97, Loss: 9.994468688964844\n",
      "Epoch: 98, Loss: 9.989574432373047\n",
      "Epoch: 99, Loss: 9.984426498413086\n",
      "Epoch: 100, Loss: 9.979753494262695\n"
     ]
    }
   ],
   "source": [
    "model.fit(lr=0.1, max_epoch=100)"
   ]
  },
  {
   "cell_type": "code",
   "execution_count": 31,
   "metadata": {
    "collapsed": false,
    "deletable": true,
    "editable": true
   },
   "outputs": [],
   "source": [
    "test_x = torch.linspace(0, 1, 51).view(-1, 1)\n",
    "fmean = model.predict(test_x)[-1]"
   ]
  },
  {
   "cell_type": "code",
   "execution_count": 32,
   "metadata": {
    "collapsed": false,
    "deletable": true,
    "editable": true
   },
   "outputs": [
    {
     "name": "stdout",
     "output_type": "stream",
     "text": [
      "tensor([[ 0.0963,  1.0190],\n",
      "        [ 0.1695,  0.9859],\n",
      "        [ 0.2516,  0.9437],\n",
      "        [ 0.3408,  0.8927],\n",
      "        [ 0.4349,  0.8330],\n",
      "        [ 0.5311,  0.7648],\n",
      "        [ 0.6263,  0.6885],\n",
      "        [ 0.7172,  0.6046],\n",
      "        [ 0.8005,  0.5137],\n",
      "        [ 0.8726,  0.4163],\n",
      "        [ 0.9303,  0.3134],\n",
      "        [ 0.9710,  0.2057],\n",
      "        [ 0.9920,  0.0946],\n",
      "        [ 0.9918, -0.0190],\n",
      "        [ 0.9692, -0.1335],\n",
      "        [ 0.9241, -0.2474],\n",
      "        [ 0.8568, -0.3592],\n",
      "        [ 0.7687, -0.4671],\n",
      "        [ 0.6618, -0.5694],\n",
      "        [ 0.5388, -0.6642],\n",
      "        [ 0.4028, -0.7499],\n",
      "        [ 0.2574, -0.8248],\n",
      "        [ 0.1063, -0.8872],\n",
      "        [-0.0465, -0.9359],\n",
      "        [-0.1974, -0.9696],\n",
      "        [-0.3427, -0.9875],\n",
      "        [-0.4792, -0.9889],\n",
      "        [-0.6043, -0.9735],\n",
      "        [-0.7156, -0.9414],\n",
      "        [-0.8114, -0.8929],\n",
      "        [-0.8908, -0.8288],\n",
      "        [-0.9529, -0.7502],\n",
      "        [-0.9979, -0.6585],\n",
      "        [-1.0260, -0.5554],\n",
      "        [-1.0381, -0.4427],\n",
      "        [-1.0352, -0.3227],\n",
      "        [-1.0185, -0.1976],\n",
      "        [-0.9895, -0.0698],\n",
      "        [-0.9496,  0.0583],\n",
      "        [-0.9004,  0.1844],\n",
      "        [-0.8434,  0.3063],\n",
      "        [-0.7798,  0.4219],\n",
      "        [-0.7111,  0.5292],\n",
      "        [-0.6385,  0.6268],\n",
      "        [-0.5632,  0.7133],\n",
      "        [-0.4863,  0.7876],\n",
      "        [-0.4087,  0.8492],\n",
      "        [-0.3315,  0.8976],\n",
      "        [-0.2555,  0.9329],\n",
      "        [-0.1817,  0.9552],\n",
      "        [-0.1109,  0.9651]])\n"
     ]
    }
   ],
   "source": [
    "print(fmean)"
   ]
  },
  {
   "cell_type": "code",
   "execution_count": 33,
   "metadata": {
    "collapsed": false,
    "deletable": true,
    "editable": true
   },
   "outputs": [
    {
     "data": {
      "image/png": "[encoded data removed]",
      "text/plain": [
       "<matplotlib.figure.Figure at 0x7f1300185ef0>"
      ]
     },
     "metadata": {},
     "output_type": "display_data"
    }
   ],
   "source": [
    "f, (y1_ax, y2_ax) = plt.subplots(1, 2, figsize=(8, 3))\n",
    "def ax_plot(ax, train_y, rand_var, title):\n",
    "    # Plot training data as black stars\n",
    "    ax.plot(train_x.data.numpy(), train_y.data.numpy(), 'k*')\n",
    "    # Predictive mean as blue line\n",
    "    ax.plot(test_x.data.numpy(), rand_var.detach().numpy(), 'b')\n",
    "    # Shade in confidence \n",
    "    ax.set_ylim([-3, 3])\n",
    "    ax.legend(['Observed Data', 'Mean', 'Confidence'])\n",
    "    ax.set_title(title)\n",
    "ax_plot(y1_ax, train_y1, fmean[:, 0], 'Observed Values (Likelihood)')\n",
    "ax_plot(y2_ax, train_y2, fmean[:, 1], 'Observed Values (Likelihood)')"
   ]
  },
  {
   "cell_type": "code",
   "execution_count": 34,
   "metadata": {
    "collapsed": false,
    "deletable": true,
    "editable": true
   },
   "outputs": [
    {
     "name": "stdout",
     "output_type": "stream",
     "text": [
      "tensor([[ 3.3537,  0.4436],\n",
      "        [ 0.4436,  3.2151]])\n"
     ]
    }
   ],
   "source": [
    "print(model.task_kernel())"
   ]
  },
  {
   "cell_type": "code",
   "execution_count": 35,
   "metadata": {
    "collapsed": false,
    "deletable": true,
    "editable": true
   },
   "outputs": [
    {
     "name": "stdout",
     "output_type": "stream",
     "text": [
      "tensor(1.00000e-02 *\n",
      "       [ 2.7244,  2.8059])\n"
     ]
    }
   ],
   "source": [
    "print(model.log_noise.exp())"
   ]
  },
  {
   "cell_type": "code",
   "execution_count": null,
   "metadata": {
    "collapsed": true,
    "deletable": true,
    "editable": true
   },
   "outputs": [],
   "source": []
  }
 ],
 "metadata": {
  "kernelspec": {
   "display_name": "Python 3",
   "language": "python",
   "name": "python3"
  },
  "language_info": {
   "codemirror_mode": {
    "name": "ipython",
    "version": 3
   },
   "file_extension": ".py",
   "mimetype": "text/x-python",
   "name": "python",
   "nbconvert_exporter": "python",
   "pygments_lexer": "ipython3",
   "version": "3.5.2"
  }
 },
 "nbformat": 4,
 "nbformat_minor": 2
}
