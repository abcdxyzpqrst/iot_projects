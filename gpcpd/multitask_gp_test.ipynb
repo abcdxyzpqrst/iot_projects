{
 "cells": [
  {
   "cell_type": "code",
   "execution_count": 25,
   "metadata": {
    "collapsed": false,
    "deletable": true,
    "editable": true
   },
   "outputs": [
    {
     "name": "stdout",
     "output_type": "stream",
     "text": [
      "The autoreload extension is already loaded. To reload it, use:\n",
      "  %reload_ext autoreload\n"
     ]
    }
   ],
   "source": [
    "import math\n",
    "import torch\n",
    "import gpytorch\n",
    "from matplotlib import pyplot as plt\n",
    "\n",
    "%matplotlib inline\n",
    "%load_ext autoreload\n",
    "%autoreload 2"
   ]
  },
  {
   "cell_type": "code",
   "execution_count": 26,
   "metadata": {
    "collapsed": true,
    "deletable": true,
    "editable": true
   },
   "outputs": [],
   "source": [
    "# Training points are every 0.1 in [0,1] (note that they're the same for both tasks)\n",
    "train_x = torch.linspace(0, 1, 11).view(-1, 1)\n",
    "# y1s are indexed 0, y2s are indexed 1\n",
    "y1_inds = torch.zeros(11).long()\n",
    "y2_inds = torch.ones(11).long()\n",
    "# y1 function is sin(2*pi*x) with noise N(0, 0.04)\n",
    "train_y1 = torch.sin(train_x.data * (2 * math.pi)) + torch.randn(train_x.size()) * 0.2\n",
    "# y2 function is cos(2*pi*x) with noise N(0, 0.04)\n",
    "train_y2 = torch.cos(train_x.data * (2 * math.pi)) + torch.randn(train_x.size()) * 0.2"
   ]
  },
  {
   "cell_type": "code",
   "execution_count": 27,
   "metadata": {
    "collapsed": true,
    "deletable": true,
    "editable": true
   },
   "outputs": [],
   "source": [
    "from torch import optim"
   ]
  },
  {
   "cell_type": "code",
   "execution_count": 28,
   "metadata": {
    "collapsed": false,
    "deletable": true,
    "editable": true
   },
   "outputs": [
    {
     "name": "stdout",
     "output_type": "stream",
     "text": [
      "tensor([[ 0.4425,  0.9615],\n",
      "        [ 0.4292,  0.9184],\n",
      "        [ 0.7137,  0.1162],\n",
      "        [ 0.7799, -0.1786],\n",
      "        [ 0.4198, -0.7220],\n",
      "        [ 0.2756, -1.0895],\n",
      "        [-0.6385, -0.5298],\n",
      "        [-0.7910, -0.5154],\n",
      "        [-0.7869,  0.3989],\n",
      "        [-0.7470,  0.8819],\n",
      "        [ 0.0485,  1.1315]])\n"
     ]
    }
   ],
   "source": [
    "train_y = torch.cat((train_y1, train_y2), dim=1).contiguous()\n",
    "print(train_y)"
   ]
  },
  {
   "cell_type": "code",
   "execution_count": 29,
   "metadata": {
    "collapsed": false,
    "deletable": true,
    "editable": true
   },
   "outputs": [],
   "source": [
    "from multitaskgp import ExactMultitaskGP\n",
    "from kernels import RQ_Constant, RBF"
   ]
  },
  {
   "cell_type": "code",
   "execution_count": 30,
   "metadata": {
    "collapsed": false,
    "deletable": true,
    "editable": true
   },
   "outputs": [],
   "source": [
    "model = ExactMultitaskGP(train_x,train_y, kernel=RBF(), rank=1)"
   ]
  },
  {
   "cell_type": "code",
   "execution_count": 31,
   "metadata": {
    "collapsed": false,
    "deletable": true,
    "editable": true
   },
   "outputs": [
    {
     "name": "stdout",
     "output_type": "stream",
     "text": [
      "Epoch: 1, Loss: 26.536706924438477\n",
      "Epoch: 2, Loss: 25.77750015258789\n",
      "Epoch: 3, Loss: 25.062490463256836\n",
      "Epoch: 4, Loss: 24.404420852661133\n",
      "Epoch: 5, Loss: 23.821563720703125\n",
      "Epoch: 6, Loss: 23.33957290649414\n",
      "Epoch: 7, Loss: 22.991233825683594\n",
      "Epoch: 8, Loss: 22.800601959228516\n",
      "Epoch: 9, Loss: 22.73196029663086\n",
      "Epoch: 10, Loss: 22.69993782043457\n",
      "Epoch: 11, Loss: 22.66034698486328\n",
      "Epoch: 12, Loss: 22.605243682861328\n",
      "Epoch: 13, Loss: 22.523944854736328\n",
      "Epoch: 14, Loss: 22.376834869384766\n",
      "Epoch: 15, Loss: 22.11391258239746\n",
      "Epoch: 16, Loss: 21.74843978881836\n",
      "Epoch: 17, Loss: 21.36846923828125\n",
      "Epoch: 18, Loss: 21.090408325195312\n",
      "Epoch: 19, Loss: 20.980030059814453\n",
      "Epoch: 20, Loss: 21.002178192138672\n",
      "Epoch: 21, Loss: 21.054758071899414\n",
      "Epoch: 22, Loss: 21.048969268798828\n",
      "Epoch: 23, Loss: 20.946537017822266\n",
      "Epoch: 24, Loss: 20.74616241455078\n",
      "Epoch: 25, Loss: 20.464780807495117\n",
      "Epoch: 26, Loss: 20.129104614257812\n",
      "Epoch: 27, Loss: 19.772933959960938\n",
      "Epoch: 28, Loss: 19.433597564697266\n",
      "Epoch: 29, Loss: 19.14246368408203\n",
      "Epoch: 30, Loss: 18.91005516052246\n",
      "Epoch: 31, Loss: 18.717952728271484\n",
      "Epoch: 32, Loss: 18.532127380371094\n",
      "Epoch: 33, Loss: 18.327377319335938\n",
      "Epoch: 34, Loss: 18.10131072998047\n",
      "Epoch: 35, Loss: 17.87356948852539\n",
      "Epoch: 36, Loss: 17.67328453063965\n",
      "Epoch: 37, Loss: 17.519268035888672\n",
      "Epoch: 38, Loss: 17.404998779296875\n",
      "Epoch: 39, Loss: 17.302818298339844\n",
      "Epoch: 40, Loss: 17.18500518798828\n",
      "Epoch: 41, Loss: 17.041805267333984\n",
      "Epoch: 42, Loss: 16.884563446044922\n",
      "Epoch: 43, Loss: 16.737886428833008\n",
      "Epoch: 44, Loss: 16.62643814086914\n",
      "Epoch: 45, Loss: 16.559200286865234\n",
      "Epoch: 46, Loss: 16.519821166992188\n",
      "Epoch: 47, Loss: 16.479381561279297\n",
      "Epoch: 48, Loss: 16.427955627441406\n",
      "Epoch: 49, Loss: 16.384632110595703\n",
      "Epoch: 50, Loss: 16.371864318847656\n",
      "Epoch: 51, Loss: 16.389677047729492\n",
      "Epoch: 52, Loss: 16.418174743652344\n",
      "Epoch: 53, Loss: 16.43794822692871\n",
      "Epoch: 54, Loss: 16.445404052734375\n",
      "Epoch: 55, Loss: 16.451068878173828\n",
      "Epoch: 56, Loss: 16.466686248779297\n",
      "Epoch: 57, Loss: 16.489234924316406\n",
      "Epoch: 58, Loss: 16.502193450927734\n",
      "Epoch: 59, Loss: 16.497020721435547\n",
      "Epoch: 60, Loss: 16.483055114746094\n",
      "Epoch: 61, Loss: 16.472408294677734\n",
      "Epoch: 62, Loss: 16.465450286865234\n",
      "Epoch: 63, Loss: 16.45499610900879\n",
      "Epoch: 64, Loss: 16.43714714050293\n",
      "Epoch: 65, Loss: 16.416065216064453\n",
      "Epoch: 66, Loss: 16.39911460876465\n",
      "Epoch: 67, Loss: 16.389371871948242\n",
      "Epoch: 68, Loss: 16.38331413269043\n",
      "Epoch: 69, Loss: 16.37636947631836\n",
      "Epoch: 70, Loss: 16.36859703063965\n",
      "Epoch: 71, Loss: 16.363330841064453\n",
      "Epoch: 72, Loss: 16.3623046875\n",
      "Epoch: 73, Loss: 16.363739013671875\n",
      "Epoch: 74, Loss: 16.364795684814453\n",
      "Epoch: 75, Loss: 16.36437225341797\n",
      "Epoch: 76, Loss: 16.363618850708008\n",
      "Epoch: 77, Loss: 16.364151000976562\n",
      "Epoch: 78, Loss: 16.36597442626953\n",
      "Epoch: 79, Loss: 16.367773056030273\n",
      "Epoch: 80, Loss: 16.368274688720703\n",
      "Epoch: 81, Loss: 16.367656707763672\n",
      "Epoch: 82, Loss: 16.367080688476562\n",
      "Epoch: 83, Loss: 16.36708641052246\n",
      "Epoch: 84, Loss: 16.367183685302734\n",
      "Epoch: 85, Loss: 16.366729736328125\n",
      "Epoch: 86, Loss: 16.365467071533203\n",
      "Epoch: 87, Loss: 16.36411476135254\n",
      "Epoch: 88, Loss: 16.363208770751953\n",
      "Epoch: 89, Loss: 16.362634658813477\n",
      "Epoch: 90, Loss: 16.361967086791992\n",
      "Epoch: 91, Loss: 16.360889434814453\n",
      "Epoch: 92, Loss: 16.35970687866211\n",
      "Epoch: 93, Loss: 16.358848571777344\n",
      "Epoch: 94, Loss: 16.358421325683594\n",
      "Epoch: 95, Loss: 16.358097076416016\n",
      "Epoch: 96, Loss: 16.35770034790039\n",
      "Epoch: 97, Loss: 16.357322692871094\n",
      "Epoch: 98, Loss: 16.357250213623047\n",
      "Epoch: 99, Loss: 16.35744857788086\n",
      "Epoch: 100, Loss: 16.357738494873047\n"
     ]
    }
   ],
   "source": [
    "model.fit(lr=0.1, max_epoch=100)"
   ]
  },
  {
   "cell_type": "code",
   "execution_count": 20,
   "metadata": {
    "collapsed": false,
    "deletable": true,
    "editable": true
   },
   "outputs": [],
   "source": [
    "test_x = torch.linspace(0, 1, 51).view(-1, 1)\n",
    "fmean = model.predict(test_x)[-1]"
   ]
  },
  {
   "cell_type": "code",
   "execution_count": 21,
   "metadata": {
    "collapsed": false,
    "deletable": true,
    "editable": true
   },
   "outputs": [
    {
     "name": "stdout",
     "output_type": "stream",
     "text": [
      "tensor(1.00000e-06 *\n",
      "       [[ 0.0125,  1.2361],\n",
      "        [ 0.0124,  1.2290],\n",
      "        [ 0.0123,  1.2216],\n",
      "        [ 0.0122,  1.2139],\n",
      "        [ 0.0122,  1.2059],\n",
      "        [ 0.0121,  1.1976],\n",
      "        [ 0.0120,  1.1890],\n",
      "        [ 0.0119,  1.1802],\n",
      "        [ 0.0118,  1.1711],\n",
      "        [ 0.0117,  1.1619],\n",
      "        [ 0.0116,  1.1524],\n",
      "        [ 0.0115,  1.1427],\n",
      "        [ 0.0114,  1.1329],\n",
      "        [ 0.0113,  1.1230],\n",
      "        [ 0.0112,  1.1129],\n",
      "        [ 0.0111,  1.1026],\n",
      "        [ 0.0110,  1.0923],\n",
      "        [ 0.0109,  1.0819],\n",
      "        [ 0.0108,  1.0715],\n",
      "        [ 0.0107,  1.0610],\n",
      "        [ 0.0106,  1.0504],\n",
      "        [ 0.0105,  1.0399],\n",
      "        [ 0.0104,  1.0293],\n",
      "        [ 0.0103,  1.0187],\n",
      "        [ 0.0102,  1.0082],\n",
      "        [ 0.0101,  0.9977],\n",
      "        [ 0.0100,  0.9873],\n",
      "        [ 0.0099,  0.9769],\n",
      "        [ 0.0098,  0.9666],\n",
      "        [ 0.0096,  0.9563],\n",
      "        [ 0.0095,  0.9462],\n",
      "        [ 0.0094,  0.9361],\n",
      "        [ 0.0093,  0.9262],\n",
      "        [ 0.0092,  0.9164],\n",
      "        [ 0.0091,  0.9067],\n",
      "        [ 0.0091,  0.8972],\n",
      "        [ 0.0090,  0.8878],\n",
      "        [ 0.0089,  0.8785],\n",
      "        [ 0.0088,  0.8694],\n",
      "        [ 0.0087,  0.8604],\n",
      "        [ 0.0086,  0.8516],\n",
      "        [ 0.0085,  0.8429],\n",
      "        [ 0.0084,  0.8345],\n",
      "        [ 0.0083,  0.8261],\n",
      "        [ 0.0083,  0.8180],\n",
      "        [ 0.0082,  0.8100],\n",
      "        [ 0.0081,  0.8021],\n",
      "        [ 0.0080,  0.7944],\n",
      "        [ 0.0079,  0.7869],\n",
      "        [ 0.0079,  0.7795],\n",
      "        [ 0.0078,  0.7723]])\n"
     ]
    }
   ],
   "source": [
    "print(fmean)"
   ]
  },
  {
   "cell_type": "code",
   "execution_count": 22,
   "metadata": {
    "collapsed": false,
    "deletable": true,
    "editable": true
   },
   "outputs": [
    {
     "data": {
      "image/png": "[encoded data removed]",
      "text/plain": [
       "<matplotlib.figure.Figure at 0x7fbcf58f2a58>"
      ]
     },
     "metadata": {},
     "output_type": "display_data"
    }
   ],
   "source": [
    "f, (y1_ax, y2_ax) = plt.subplots(1, 2, figsize=(8, 3))\n",
    "def ax_plot(ax, train_y, rand_var, title):\n",
    "    # Plot training data as black stars\n",
    "    ax.plot(train_x.data.numpy(), train_y.data.numpy(), 'k*')\n",
    "    # Predictive mean as blue line\n",
    "    ax.plot(test_x.data.numpy(), rand_var.detach().numpy(), 'b')\n",
    "    # Shade in confidence \n",
    "    ax.set_ylim([-3, 3])\n",
    "    ax.legend(['Observed Data', 'Mean', 'Confidence'])\n",
    "    ax.set_title(title)\n",
    "ax_plot(y1_ax, train_y1, fmean[:, 0], 'Observed Values (Likelihood)')\n",
    "ax_plot(y2_ax, train_y2, fmean[:, 1], 'Observed Values (Likelihood)')"
   ]
  },
  {
   "cell_type": "code",
   "execution_count": 23,
   "metadata": {
    "collapsed": false,
    "deletable": true,
    "editable": true
   },
   "outputs": [
    {
     "name": "stdout",
     "output_type": "stream",
     "text": [
      "tensor(1.00000e-06 *\n",
      "       [[ 0.0008,  0.0745],\n",
      "        [ 0.0745,  7.3847]])\n"
     ]
    }
   ],
   "source": [
    "print(model.task_kernel())"
   ]
  },
  {
   "cell_type": "code",
   "execution_count": 24,
   "metadata": {
    "collapsed": false,
    "deletable": true,
    "editable": true
   },
   "outputs": [
    {
     "name": "stdout",
     "output_type": "stream",
     "text": [
      "tensor([ 0.4602,  0.6298])\n"
     ]
    }
   ],
   "source": [
    "print(model.log_noise.exp())"
   ]
  },
  {
   "cell_type": "code",
   "execution_count": null,
   "metadata": {
    "collapsed": true,
    "deletable": true,
    "editable": true
   },
   "outputs": [],
   "source": []
  }
 ],
 "metadata": {
  "kernelspec": {
   "display_name": "Python 3",
   "language": "python",
   "name": "python3"
  },
  "language_info": {
   "codemirror_mode": {
    "name": "ipython",
    "version": 3
   },
   "file_extension": ".py",
   "mimetype": "text/x-python",
   "name": "python",
   "nbconvert_exporter": "python",
   "pygments_lexer": "ipython3",
   "version": "3.5.2"
  }
 },
 "nbformat": 4,
 "nbformat_minor": 2
}
